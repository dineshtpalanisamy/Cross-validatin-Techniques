{
 "cells": [
  {
   "cell_type": "markdown",
   "id": "21493083",
   "metadata": {},
   "source": [
    " In train-test-split you keep aside (70%,80%) of data for training and remaining for testing the model, but what if the data points that can bring some pattern is in test dataset and you end up losing it? \n",
    "\n",
    "Also when you split the data with some random_state and calculate the accuracy or any other metric it changes with change in random_state, in this case how would you decide what's the maximum and minimum accuracy,error your model produce?"
   ]
  },
  {
   "cell_type": "markdown",
   "id": "1884cc3c",
   "metadata": {},
   "source": [
    "There comes Cross-validation as our Saviour. Wonder how?"
   ]
  },
  {
   "cell_type": "code",
   "execution_count": null,
   "id": "79a6b9a3",
   "metadata": {},
   "outputs": [],
   "source": []
  },
  {
   "cell_type": "markdown",
   "id": "708057f3",
   "metadata": {},
   "source": [
    "# WHAT IS CROSS-VALIDATION?\n"
   ]
  },
  {
   "cell_type": "markdown",
   "id": "6d53c78b",
   "metadata": {},
   "source": [
    "Cross-validation is a technique in which we train our model using the subset of the data-set and then evaluate using the complementary subset of the data-set.\n",
    "\n"
   ]
  },
  {
   "cell_type": "markdown",
   "id": "1d0f8ce4",
   "metadata": {},
   "source": [
    "Cross-validation starts by shuffling the data (to prevent any unintentional ordering errors) and splitting it into k folds. Then k models are fit on k−1 of the data (called the training split) and evaluated on 1/k of the data (called the test split). The results from each evaluation are averaged together for a final score, then the final model is fit on the entire dataset for operationalization.\n",
    "\n",
    "This way there's no leaving out any part of dataset covering all trends!"
   ]
  },
  {
   "cell_type": "markdown",
   "id": "8f331dd2",
   "metadata": {},
   "source": [
    "# METHODS OF CROSS-VALIDATION"
   ]
  },
  {
   "cell_type": "markdown",
   "id": "0dfa6bb8",
   "metadata": {},
   "source": [
    "# 1) VALIDATION\n",
    "\n",
    "In this method, we perform training on the 50% of the given data-set and rest 50% is used for the testing purpose. The major drawback of this method is that we perform training on the 50% of the dataset, it may possible that the remaining 50% of the data contains some important information which we are leaving while training our model i.e higher bias."
   ]
  },
  {
   "cell_type": "markdown",
   "id": "9448d848",
   "metadata": {},
   "source": [
    "# 2) LOOCV (LEAVE ONE OUT CROSS-VALIDATION)\n",
    "\n",
    "In this method, we perform training on the whole data-set but leaves only one data-point of the available data-set and then iterates for each data-point. Suppose you have 1000 records in your dataset and in this method you leave out one data point and use the rest 999 records for validation. In this way the validation is run for 1000 times and what if you have millions of records? Would you run million times? That's practically impossible!\n",
    "\n",
    "An advantage of using this method is that we make use of all data points and hence it is low bias. The major drawback of this method is that it leads to higher variation in the testing model as we are testing against one data point. If the data point is an outlier it can lead to higher variation. Another drawback is it takes a lot of execution time as it iterates over ‘the number of data points’ times."
   ]
  },
  {
   "cell_type": "markdown",
   "id": "e1863a08",
   "metadata": {},
   "source": [
    "From the above two validation methods, we’ve learnt:\n",
    "\n",
    "We should train the model on a large portion of the dataset. Otherwise we’ll fail to read and recognise the underlying trend in the data. This will eventually result in a higher bias.\n",
    "\n",
    "We also need a good ratio of testing data points. As we have seen above, less amount of data points can lead to a variance error while testing the effectiveness of the model.\n",
    "\n",
    "We should iterate on the training and testing process multiple times. We should change the train and test dataset distribution. This helps in validating the model effectiveness properly.\n",
    "\n",
    "Do we have a method which takes care of all these 3 requirements?"
   ]
  },
  {
   "cell_type": "markdown",
   "id": "d417abef",
   "metadata": {},
   "source": [
    "# 3) K-FOLD CROSS-VALIDATION"
   ]
  },
  {
   "cell_type": "markdown",
   "id": "4c9ee017",
   "metadata": {},
   "source": [
    " That method is known as “k-fold cross validation”.\n",
    "\n",
    "It’s easy to follow and implement. Below are the steps for it:\n",
    "\n",
    "\n",
    "* Randomly split your entire dataset into \"kfolds\".\n",
    "\n",
    "* For each k-fold in your dataset, build your model on k – 1 folds of the dataset. Then, test the model to check the effectiveness for kth fold.\n",
    "\n",
    "* Record the error you see on each of the predictions.\n",
    "\n",
    "* Repeat this until each of the k-folds has served as the test set.\n",
    "\n",
    "* The average of your k recorded errors is called the cross-validation error and will serve as your performance metric for the model.\n",
    "\n",
    "Now you might wonder what could be the way to decide the value of k?\n",
    "\n",
    "Well let me tell you there's no thumb rule for choosing the value of k and it completel depends on size of your dataset. However k=10 is considered to be ideal value as more than 10 would really take longer to validate.\n",
    "\n",
    "Higher the value of K leads to LOOCV approach where you will incure high computation costs.\n",
    "\n",
    "Lower value of K leads to validation approach where you will lose the important data."
   ]
  },
  {
   "cell_type": "markdown",
   "id": "cfbefc3d",
   "metadata": {},
   "source": [
    "# 4) STRATIFIED CROSS-VALIDATION\n",
    "\n",
    "Stratification is the process of rearranging the data so as to ensure that each fold is a good representative of the whole. For example, in a binary classification if our target labels are imbalanced,it is advisory to arrange the data such that in every fold, each class comprises of about half the instances. If this is not covered, the model learns only to predict the majority label and when unseen data is fed it will predict only majority label which might deteriorate model's predictions."
   ]
  },
  {
   "cell_type": "markdown",
   "id": "f4345607",
   "metadata": {},
   "source": [
    "# 5) ADVERSARIAL VALIDATION\n",
    "\n",
    "Many data science competitions suffer from a test set being markedly different from a training set (a violation of the “identically distributed” assumption). It is then difficult to make a representative validation set. As a result, the internal cross-validation techniques might give scores that are not even in the ballpark of the test score. In such cases, adversarial validation offers an ideal solution.\n",
    "\n",
    "The general idea is to check the degree of similarity between training and tests in terms of feature distribution. If It does not seem to be the case, we can suspect they are quite different. This intuition can be quantified by combining train and test sets, assigning 0/1 labels (0 – train, 1-test) and evaluating a binary classification task. Specifically, we’ll run the distinguishing classifier in cross-validation mode, to get predictions for all training examples. Then we’ll see which training examples are misclassified as test and use them for validation.\n",
    "\n",
    "To be more precise, we’ll choose a number of misclassified examples that the model was most certain about. It means that they look like test examples but in reality are training examples. Cross-validation provides predictions for all the training points. Now we’d like to sort the training points by their estimated probability of being test examples. We did the ascending sort, so for validation we take a desired number of examples from the end. We will note that if differences between models in validation are pretty slim.\n",
    "\n",
    "Steps to do Adversarial Validation:\n",
    "\n",
    "* Remove the target variable from the train set\n",
    "* Create a new target variable which is 1 for each row in the train set, and 0 for each row in the test set\n",
    "* Combine the train and test datasets\n",
    "* Using the above newly created target variable, fit a classification model and predict probabilities for each row to be in the test set"
   ]
  },
  {
   "cell_type": "markdown",
   "id": "1e363bae",
   "metadata": {},
   "source": [
    "# ADVANTAGES OF CROSS-VALIDATION"
   ]
  },
  {
   "cell_type": "markdown",
   "id": "731929cf",
   "metadata": {},
   "source": [
    "* More accurate estimate of out-of-sample accuracy.\n",
    "* More “efficient” use of data as every observation is used for both training and testing."
   ]
  },
  {
   "cell_type": "code",
   "execution_count": 1,
   "id": "eea9d122",
   "metadata": {},
   "outputs": [
    {
     "name": "stdout",
     "output_type": "stream",
     "text": [
      "Requirement already satisfied: numpy in e:\\anaxonda\\lib\\site-packages (1.21.2)\n",
      "Note: you may need to restart the kernel to use updated packages.\n"
     ]
    },
    {
     "name": "stderr",
     "output_type": "stream",
     "text": [
      "WARNING: Ignoring invalid distribution -5py (e:\\anaxonda\\lib\\site-packages)\n",
      "WARNING: Ignoring invalid distribution -umpy (e:\\anaxonda\\lib\\site-packages)\n",
      "WARNING: Ignoring invalid distribution -ip (e:\\anaxonda\\lib\\site-packages)\n",
      "WARNING: Ignoring invalid distribution - (e:\\anaxonda\\lib\\site-packages)\n",
      "WARNING: Ignoring invalid distribution -ensorflow (e:\\anaxonda\\lib\\site-packages)\n",
      "WARNING: Ignoring invalid distribution -5py (e:\\anaxonda\\lib\\site-packages)\n",
      "WARNING: Ignoring invalid distribution -umpy (e:\\anaxonda\\lib\\site-packages)\n",
      "WARNING: Ignoring invalid distribution -ip (e:\\anaxonda\\lib\\site-packages)\n",
      "WARNING: Ignoring invalid distribution - (e:\\anaxonda\\lib\\site-packages)\n",
      "WARNING: Ignoring invalid distribution -ensorflow (e:\\anaxonda\\lib\\site-packages)\n",
      "WARNING: Ignoring invalid distribution -5py (e:\\anaxonda\\lib\\site-packages)\n",
      "WARNING: Ignoring invalid distribution -umpy (e:\\anaxonda\\lib\\site-packages)\n",
      "WARNING: Ignoring invalid distribution -ip (e:\\anaxonda\\lib\\site-packages)\n",
      "WARNING: Ignoring invalid distribution - (e:\\anaxonda\\lib\\site-packages)\n",
      "WARNING: Ignoring invalid distribution -ensorflow (e:\\anaxonda\\lib\\site-packages)\n",
      "WARNING: Ignoring invalid distribution -5py (e:\\anaxonda\\lib\\site-packages)\n",
      "WARNING: Ignoring invalid distribution -umpy (e:\\anaxonda\\lib\\site-packages)\n",
      "WARNING: Ignoring invalid distribution -ip (e:\\anaxonda\\lib\\site-packages)\n",
      "WARNING: Ignoring invalid distribution - (e:\\anaxonda\\lib\\site-packages)\n",
      "WARNING: Ignoring invalid distribution -ensorflow (e:\\anaxonda\\lib\\site-packages)\n",
      "WARNING: Ignoring invalid distribution -5py (e:\\anaxonda\\lib\\site-packages)\n",
      "WARNING: Ignoring invalid distribution -umpy (e:\\anaxonda\\lib\\site-packages)\n",
      "WARNING: Ignoring invalid distribution -ip (e:\\anaxonda\\lib\\site-packages)\n",
      "WARNING: Ignoring invalid distribution - (e:\\anaxonda\\lib\\site-packages)\n",
      "WARNING: Ignoring invalid distribution -ensorflow (e:\\anaxonda\\lib\\site-packages)\n",
      "WARNING: Ignoring invalid distribution -5py (e:\\anaxonda\\lib\\site-packages)\n",
      "WARNING: Ignoring invalid distribution -umpy (e:\\anaxonda\\lib\\site-packages)\n",
      "WARNING: Ignoring invalid distribution -ip (e:\\anaxonda\\lib\\site-packages)\n",
      "WARNING: Ignoring invalid distribution - (e:\\anaxonda\\lib\\site-packages)\n",
      "WARNING: Ignoring invalid distribution -ensorflow (e:\\anaxonda\\lib\\site-packages)\n"
     ]
    }
   ],
   "source": [
    "pip install --upgrade numpy"
   ]
  },
  {
   "cell_type": "code",
   "execution_count": 2,
   "id": "21e29533",
   "metadata": {},
   "outputs": [
    {
     "name": "stderr",
     "output_type": "stream",
     "text": [
      "E:\\ANAXONDA\\lib\\site-packages\\numpy\\_distributor_init.py:30: UserWarning: loaded more than 1 DLL from .libs:\n",
      "E:\\ANAXONDA\\lib\\site-packages\\numpy\\.libs\\libopenblas.PYQHXLVVQ7VESDPUVUADXEVJOBGHJPAY.gfortran-win_amd64.dll\n",
      "E:\\ANAXONDA\\lib\\site-packages\\numpy\\.libs\\libopenblas.XWYDX2IKJW2NMTWSFYNGFUWKQU3LYTCZ.gfortran-win_amd64.dll\n",
      "  warnings.warn(\"loaded more than 1 DLL from .libs:\"\n"
     ]
    }
   ],
   "source": [
    "\n",
    "import pandas as pd\n",
    "import numpy as np \n",
    "import matplotlib.pyplot as plt\n",
    "import sklearn\n",
    "import warnings\n",
    "warnings.filterwarnings('ignore')"
   ]
  },
  {
   "cell_type": "code",
   "execution_count": 3,
   "id": "5c984e92",
   "metadata": {},
   "outputs": [],
   "source": [
    "from sklearn.model_selection import train_test_split\n",
    "from sklearn.metrics import mean_squared_error\n",
    "from math import sqrt\n",
    "from sklearn import model_selection\n",
    "from sklearn.linear_model import LogisticRegression\n",
    "from sklearn.model_selection import KFold\n",
    "from sklearn.model_selection import cross_val_score\n",
    "from sklearn.model_selection import LeaveOneOut\n",
    "from sklearn.model_selection import LeavePOut\n",
    "from sklearn.model_selection import ShuffleSplit\n",
    "from sklearn.model_selection import StratifiedKFold"
   ]
  },
  {
   "cell_type": "code",
   "execution_count": 4,
   "id": "92f9d24e",
   "metadata": {},
   "outputs": [
    {
     "name": "stdout",
     "output_type": "stream",
     "text": [
      "Requirement already satisfied: yellowbrick==1.3.post1 in e:\\anaxonda\\lib\\site-packages (1.3.post1)\n",
      "Requirement already satisfied: cycler>=0.10.0 in e:\\anaxonda\\lib\\site-packages (from yellowbrick==1.3.post1) (0.10.0)\n",
      "Collecting numpy<1.20,>=1.16.0\n",
      "  Using cached numpy-1.19.5-cp38-cp38-win_amd64.whl (13.3 MB)\n",
      "Requirement already satisfied: scikit-learn>=0.20 in e:\\anaxonda\\lib\\site-packages (from yellowbrick==1.3.post1) (0.24.2)\n",
      "Requirement already satisfied: matplotlib!=3.0.0,>=2.0.2 in e:\\anaxonda\\lib\\site-packages (from yellowbrick==1.3.post1) (3.4.2)\n",
      "Requirement already satisfied: scipy>=1.0.0 in e:\\anaxonda\\lib\\site-packages (from yellowbrick==1.3.post1) (1.7.1)\n",
      "Note: you may need to restart the kernel to use updated packages.Requirement already satisfied: six in e:\\anaxonda\\lib\\site-packages (from cycler>=0.10.0->yellowbrick==1.3.post1) (1.16.0)\n",
      "Requirement already satisfied: pyparsing>=2.2.1 in e:\\anaxonda\\lib\\site-packages (from matplotlib!=3.0.0,>=2.0.2->yellowbrick==1.3.post1) (2.4.7)\n",
      "Requirement already satisfied: kiwisolver>=1.0.1 in e:\\anaxonda\\lib\\site-packages (from matplotlib!=3.0.0,>=2.0.2->yellowbrick==1.3.post1) (1.3.1)\n",
      "Requirement already satisfied: python-dateutil>=2.7 in e:\\anaxonda\\lib\\site-packages (from matplotlib!=3.0.0,>=2.0.2->yellowbrick==1.3.post1) (2.8.2)\n",
      "Requirement already satisfied: pillow>=6.2.0 in e:\\anaxonda\\lib\\site-packages (from matplotlib!=3.0.0,>=2.0.2->yellowbrick==1.3.post1) (8.0.0)\n",
      "Requirement already satisfied: threadpoolctl>=2.0.0 in e:\\anaxonda\\lib\\site-packages (from scikit-learn>=0.20->yellowbrick==1.3.post1) (2.2.0)\n",
      "Requirement already satisfied: joblib>=0.11 in e:\\anaxonda\\lib\\site-packages (from scikit-learn>=0.20->yellowbrick==1.3.post1) (1.0.1)\n",
      "Installing collected packages: numpy\n",
      "  Attempting uninstall: numpy\n",
      "    Found existing installation: numpy 1.21.2\n",
      "    Uninstalling numpy-1.21.2:\n",
      "\n"
     ]
    },
    {
     "name": "stderr",
     "output_type": "stream",
     "text": [
      "WARNING: Ignoring invalid distribution -5py (e:\\anaxonda\\lib\\site-packages)\n",
      "WARNING: Ignoring invalid distribution -umpy (e:\\anaxonda\\lib\\site-packages)\n",
      "WARNING: Ignoring invalid distribution -ip (e:\\anaxonda\\lib\\site-packages)\n",
      "WARNING: Ignoring invalid distribution - (e:\\anaxonda\\lib\\site-packages)\n",
      "WARNING: Ignoring invalid distribution -ensorflow (e:\\anaxonda\\lib\\site-packages)\n",
      "WARNING: Ignoring invalid distribution -5py (e:\\anaxonda\\lib\\site-packages)\n",
      "WARNING: Ignoring invalid distribution -umpy (e:\\anaxonda\\lib\\site-packages)\n",
      "WARNING: Ignoring invalid distribution -ip (e:\\anaxonda\\lib\\site-packages)\n",
      "WARNING: Ignoring invalid distribution - (e:\\anaxonda\\lib\\site-packages)\n",
      "WARNING: Ignoring invalid distribution -ensorflow (e:\\anaxonda\\lib\\site-packages)\n",
      "WARNING: Ignoring invalid distribution -5py (e:\\anaxonda\\lib\\site-packages)\n",
      "WARNING: Ignoring invalid distribution -umpy (e:\\anaxonda\\lib\\site-packages)\n",
      "WARNING: Ignoring invalid distribution -ip (e:\\anaxonda\\lib\\site-packages)\n",
      "WARNING: Ignoring invalid distribution - (e:\\anaxonda\\lib\\site-packages)\n",
      "WARNING: Ignoring invalid distribution -ensorflow (e:\\anaxonda\\lib\\site-packages)\n",
      "    WARNING: Ignoring invalid distribution -5py (e:\\anaxonda\\lib\\site-packages)\n",
      "    WARNING: Ignoring invalid distribution -umpy (e:\\anaxonda\\lib\\site-packages)\n",
      "    WARNING: Ignoring invalid distribution -ip (e:\\anaxonda\\lib\\site-packages)\n",
      "    WARNING: Ignoring invalid distribution - (e:\\anaxonda\\lib\\site-packages)\n",
      "    WARNING: Ignoring invalid distribution -ensorflow (e:\\anaxonda\\lib\\site-packages)\n",
      "ERROR: Could not install packages due to an OSError: [WinError 5] Access is denied: 'e:\\\\anaxonda\\\\lib\\\\site-packages\\\\numpy\\\\.libs\\\\libopenblas.xwydx2ikjw2nmtwsfyngfuwkqu3lytcz.gfortran-win_amd64.dll'\n",
      "Consider using the `--user` option or check the permissions.\n",
      "\n",
      "WARNING: Ignoring invalid distribution -5py (e:\\anaxonda\\lib\\site-packages)\n",
      "WARNING: Ignoring invalid distribution -umpy (e:\\anaxonda\\lib\\site-packages)\n",
      "WARNING: Ignoring invalid distribution -ip (e:\\anaxonda\\lib\\site-packages)\n",
      "WARNING: Ignoring invalid distribution - (e:\\anaxonda\\lib\\site-packages)\n",
      "WARNING: Ignoring invalid distribution -ensorflow (e:\\anaxonda\\lib\\site-packages)\n",
      "WARNING: Ignoring invalid distribution -5py (e:\\anaxonda\\lib\\site-packages)\n",
      "WARNING: Ignoring invalid distribution -umpy (e:\\anaxonda\\lib\\site-packages)\n",
      "WARNING: Ignoring invalid distribution -ip (e:\\anaxonda\\lib\\site-packages)\n",
      "WARNING: Ignoring invalid distribution - (e:\\anaxonda\\lib\\site-packages)\n",
      "WARNING: Ignoring invalid distribution -ensorflow (e:\\anaxonda\\lib\\site-packages)\n",
      "WARNING: Ignoring invalid distribution -5py (e:\\anaxonda\\lib\\site-packages)\n",
      "WARNING: Ignoring invalid distribution -umpy (e:\\anaxonda\\lib\\site-packages)\n",
      "WARNING: Ignoring invalid distribution -ip (e:\\anaxonda\\lib\\site-packages)\n",
      "WARNING: Ignoring invalid distribution - (e:\\anaxonda\\lib\\site-packages)\n",
      "WARNING: Ignoring invalid distribution -ensorflow (e:\\anaxonda\\lib\\site-packages)\n"
     ]
    }
   ],
   "source": [
    "pip install yellowbrick==1.3.post1\n"
   ]
  },
  {
   "cell_type": "code",
   "execution_count": 5,
   "id": "c72e9ded",
   "metadata": {},
   "outputs": [],
   "source": [
    "from yellowbrick.model_selection import cv_scores\n",
    "from yellowbrick.model_selection import CVScores"
   ]
  },
  {
   "cell_type": "code",
   "execution_count": 6,
   "id": "2610d652",
   "metadata": {},
   "outputs": [],
   "source": [
    "data = pd.read_csv(\"diabetes.csv\")"
   ]
  },
  {
   "cell_type": "code",
   "execution_count": 7,
   "id": "42c36537",
   "metadata": {},
   "outputs": [],
   "source": [
    "x1 = data.drop('Outcome', axis=1).values \n",
    "y1 = data['Outcome'].values"
   ]
  },
  {
   "cell_type": "markdown",
   "id": "45913d57",
   "metadata": {},
   "source": [
    "# 1)  HOLD-OUT VALIDATION APPROACH"
   ]
  },
  {
   "cell_type": "code",
   "execution_count": 8,
   "id": "ceea20cd",
   "metadata": {},
   "outputs": [
    {
     "name": "stdout",
     "output_type": "stream",
     "text": [
      "Accuracy: 75.76%\n"
     ]
    }
   ],
   "source": [
    "X_train, X_test, Y_train, Y_test = model_selection.train_test_split(x1, y1, test_size=0.30, random_state=100)\n",
    "model = LogisticRegression()\n",
    "model.fit(X_train, Y_train)\n",
    "result = model.score(X_test, Y_test)\n",
    "print(\"Accuracy: %.2f%%\" % (result*100.0))"
   ]
  },
  {
   "cell_type": "code",
   "execution_count": 9,
   "id": "d9a325a2",
   "metadata": {},
   "outputs": [
    {
     "name": "stdout",
     "output_type": "stream",
     "text": [
      "Accuracy: 77.06%\n"
     ]
    }
   ],
   "source": [
    "X_train, X_test, Y_train, Y_test = model_selection.train_test_split(x1, y1, test_size=0.30, random_state=22)\n",
    "model = LogisticRegression()\n",
    "model.fit(X_train, Y_train)\n",
    "result = model.score(X_test, Y_test)\n",
    "print(\"Accuracy: %.2f%%\" % (result*100.0))"
   ]
  },
  {
   "cell_type": "markdown",
   "id": "9fc3d046",
   "metadata": {},
   "source": [
    "We can see that the accuracy for the model on the test data is approximately 77% with randomstate=22."
   ]
  },
  {
   "cell_type": "markdown",
   "id": "2b8ca87e",
   "metadata": {},
   "source": [
    "# 2) LEAVE ONE OUT VALIDATION"
   ]
  },
  {
   "cell_type": "code",
   "execution_count": 10,
   "id": "1032c282",
   "metadata": {},
   "outputs": [
    {
     "name": "stdout",
     "output_type": "stream",
     "text": [
      "Accuracy: 77.86%\n"
     ]
    }
   ],
   "source": [
    "loocv = LeaveOneOut()\n",
    "model_loocv = LogisticRegression()\n",
    "results_loocv = cross_val_score(model_loocv, x1, y1, cv=loocv)\n",
    "print(\"Accuracy: %.2f%%\" % (results_loocv.mean()*100.0))"
   ]
  },
  {
   "cell_type": "markdown",
   "id": "b6d4f7d9",
   "metadata": {},
   "source": [
    "# 3) K-FOLD CROSS VALIDATION APPROACH"
   ]
  },
  {
   "cell_type": "code",
   "execution_count": 12,
   "id": "1c772a00",
   "metadata": {},
   "outputs": [
    {
     "name": "stdout",
     "output_type": "stream",
     "text": [
      "Accuracy: 76.82%\n",
      "Accuracy: 77.60%\n",
      "Accuracy: 77.86%\n",
      "Accuracy: 77.61%\n",
      "Accuracy: 78.12%\n",
      "Accuracy: 77.74%\n",
      "Accuracy: 77.60%\n",
      "Accuracy: 77.36%\n",
      "Accuracy: 77.47%\n"
     ]
    }
   ],
   "source": [
    "for k in range(2,11):\n",
    "\n",
    "    kfold = KFold(n_splits=k,shuffle=True, random_state=100)\n",
    "    model_kfold = LogisticRegression()\n",
    "    results_kfold = model_selection.cross_val_score(model_kfold, x1, y1, cv=kfold)\n",
    "    print(\"Accuracy: %.2f%%\" % (results_kfold.mean()*100.0))"
   ]
  },
  {
   "cell_type": "code",
   "execution_count": 16,
   "id": "bb0ec5c4",
   "metadata": {},
   "outputs": [
    {
     "data": {
      "image/png": "[encoded data removed]",
      "text/plain": [
       "<Figure size 576x396 with 1 Axes>"
      ]
     },
     "metadata": {},
     "output_type": "display_data"
    }
   ],
   "source": [
    "# Create a cross-validation strategy\n",
    "cv = KFold(n_splits=10,shuffle = True , random_state=100)\n",
    "\n",
    "# Instantiate the classification model and visualizer\n",
    "model = LogisticRegression()\n",
    "\n",
    "# Fit the data to the visualizer\n",
    "visualizer = cv_scores(model, x1, y1, cv=cv, scoring='accuracy')"
   ]
  },
  {
   "cell_type": "markdown",
   "id": "c3e5d78a",
   "metadata": {},
   "source": [
    "# 4) STRATIFIED K-FOLD CROSS VALIDATION APPROACH"
   ]
  },
  {
   "cell_type": "code",
   "execution_count": 17,
   "id": "a4796ccc",
   "metadata": {},
   "outputs": [
    {
     "name": "stdout",
     "output_type": "stream",
     "text": [
      "Accuracy: 75.91%\n",
      "Accuracy: 75.52%\n",
      "Accuracy: 76.69%\n",
      "Accuracy: 77.09%\n",
      "Accuracy: 77.34%\n",
      "Accuracy: 76.95%\n",
      "Accuracy: 77.34%\n",
      "Accuracy: 77.10%\n",
      "Accuracy: 77.61%\n"
     ]
    }
   ],
   "source": [
    "for k in range(2,11):\n",
    "\n",
    "    skfold = StratifiedKFold(n_splits=k,shuffle= True, random_state=100)\n",
    "    model_skfold = LogisticRegression()\n",
    "    results_skfold = cross_val_score(model_skfold, x1, y1, cv=skfold)\n",
    "\n",
    "    print(\"Accuracy: %.2f%%\" % (results_skfold.mean()*100.0))"
   ]
  },
  {
   "cell_type": "code",
   "execution_count": 19,
   "id": "74cae477",
   "metadata": {},
   "outputs": [
    {
     "data": {
      "image/png": "[encoded data removed]",
      "text/plain": [
       "<Figure size 576x396 with 1 Axes>"
      ]
     },
     "metadata": {},
     "output_type": "display_data"
    },
    {
     "data": {
      "text/plain": [
       "<AxesSubplot:title={'center':'Cross Validation Scores for LogisticRegression'}, xlabel='Training Instances', ylabel='Score'>"
      ]
     },
     "execution_count": 19,
     "metadata": {},
     "output_type": "execute_result"
    }
   ],
   "source": [
    "# Create a cross-validation strategy\n",
    "cv = StratifiedKFold(n_splits=10,shuffle = True, random_state=100)\n",
    "\n",
    "# Instantiate the classification model and visualizer\n",
    "model = LogisticRegression()\n",
    "visualizer = CVScores(model, cv=cv, scoring='accuracy')\n",
    "\n",
    "# Fit the data to the visualizer\n",
    "visualizer.fit(x1, y1)\n",
    "\n",
    "# Finalize and render the figure\n",
    "visualizer.show()    "
   ]
  },
  {
   "cell_type": "markdown",
   "id": "5fb9b5cb",
   "metadata": {},
   "source": [
    "# 5) SHUFFLE SPLIT APPROACH"
   ]
  },
  {
   "cell_type": "code",
   "execution_count": 27,
   "id": "510b0091",
   "metadata": {},
   "outputs": [
    {
     "name": "stdout",
     "output_type": "stream",
     "text": [
      "Accuracy: 75.91% (4.04%)\n",
      "Accuracy: 75.52% (2.44%)\n",
      "Accuracy: 76.69% (5.16%)\n",
      "Accuracy: 77.09% (3.90%)\n",
      "Accuracy: 77.34% (3.16%)\n",
      "Accuracy: 76.95% (3.99%)\n",
      "Accuracy: 77.34% (3.85%)\n",
      "Accuracy: 77.10% (4.79%)\n",
      "Accuracy: 77.61% (4.95%)\n"
     ]
    }
   ],
   "source": [
    "for k in range(2,11):\n",
    "\n",
    "    kfold2 = StratifiedKFold(n_splits=k, shuffle=True, random_state=100)\n",
    "    model_shufflecv = LogisticRegression()\n",
    "    results_4 = model_selection.cross_val_score(model_shufflecv, x1, y1, cv=kfold2)\n",
    "    print(\"Accuracy: %.2f%% (%.2f%%)\" % (results_4.mean()*100.0, results_4.std()*100.0))"
   ]
  },
  {
   "cell_type": "code",
   "execution_count": 28,
   "id": "a4afbda4",
   "metadata": {},
   "outputs": [
    {
     "data": {
      "image/png": "[encoded data removed]",
      "text/plain": [
       "<Figure size 576x396 with 1 Axes>"
      ]
     },
     "metadata": {},
     "output_type": "display_data"
    },
    {
     "data": {
      "text/plain": [
       "<AxesSubplot:title={'center':'Cross Validation Scores for LogisticRegression'}, xlabel='Training Instances', ylabel='Score'>"
      ]
     },
     "execution_count": 28,
     "metadata": {},
     "output_type": "execute_result"
    }
   ],
   "source": [
    "# Create a cross-validation strategy\n",
    "cv = ShuffleSplit(n_splits=10, random_state=100)\n",
    "\n",
    "# Instantiate the classification model and visualizer\n",
    "model = LogisticRegression()\n",
    "visualizer = CVScores(model, cv=cv, scoring='accuracy')\n",
    "\n",
    "# Fit the data to the visualizer\n",
    "visualizer.fit(x1, y1)\n",
    "\n",
    "# Finalize and render the figure\n",
    "visualizer.show()  "
   ]
  }
 ],
 "metadata": {
  "kernelspec": {
   "display_name": "Python 3 (ipykernel)",
   "language": "python",
   "name": "python3"
  },
  "language_info": {
   "codemirror_mode": {
    "name": "ipython",
    "version": 3
   },
   "file_extension": ".py",
   "mimetype": "text/x-python",
   "name": "python",
   "nbconvert_exporter": "python",
   "pygments_lexer": "ipython3",
   "version": "3.8.8"
  }
 },
 "nbformat": 4,
 "nbformat_minor": 5
}
